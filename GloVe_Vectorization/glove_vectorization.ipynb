{
  "nbformat": 4,
  "nbformat_minor": 0,
  "metadata": {
    "colab": {
      "name": "Untitled3.ipynb",
      "provenance": [],
      "collapsed_sections": []
    },
    "kernelspec": {
      "name": "python3",
      "display_name": "Python 3"
    }
  },
  "cells": [
    {
      "cell_type": "code",
      "metadata": {
        "id": "lxvMYTUseKVg",
        "outputId": "ed66155e-4415-401c-c6a4-71358f7c5d84",
        "colab": {
          "base_uri": "https://localhost:8080/"
        }
      },
      "source": [
        "# Mounting Google Drive\n",
        "\n",
        "from google.colab import drive\n",
        "drive.mount('/content/drive')"
      ],
      "execution_count": 1,
      "outputs": [
        {
          "output_type": "stream",
          "text": [
            "Mounted at /content/drive\n"
          ],
          "name": "stdout"
        }
      ]
    },
    {
      "cell_type": "code",
      "metadata": {
        "id": "u32-9EoVitgM",
        "outputId": "44c64115-631e-4109-bbb1-c116ffd74c59",
        "colab": {
          "base_uri": "https://localhost:8080/"
        }
      },
      "source": [
        "import pickle\n",
        "import nltk \n",
        "\n",
        "co_occurence_matrix = {}\n",
        "vocabulary = []\n",
        "local_context_window = 6\n",
        "print(\"Global variables initialized...!!\")\n",
        "\n",
        "with open(\"/content/drive/My Drive/ISI-Project/train_data_bow\",\"rb\") as f:\n",
        "    corpus = pickle.load(f)\n",
        "\n",
        "training_data = []\n",
        "\n",
        "vocabulary.clear()\n",
        "co_occurence_matrix.clear()\n",
        "no_of_sentences_so_far = 0 \n",
        "\n",
        "for poem in corpus:\n",
        "  poem = poem[-2]\n",
        "\n",
        "  no_of_sentences_so_far += 1\n",
        "  if no_of_sentences_so_far%5000 == 0 :\n",
        "    print(\"Co occurence matrix build in progress... \" + str(no_of_sentences_so_far) + \" poems read.\")\n",
        "    \n",
        "  for index_tokens_list in range(len(poem)):\n",
        "    token = poem[index_tokens_list]\n",
        "    if token not in vocabulary:\n",
        "      vocabulary.append(token)  \n",
        "\n",
        "    for index in range(1, int(local_context_window/2)):\n",
        "      if index + index_tokens_list >= len(poem):\n",
        "        break\n",
        "      tuple_main_context = (poem[index_tokens_list], poem[index_tokens_list + index])\n",
        "      tuple_context_main = (poem[index_tokens_list + index], poem[index_tokens_list])\n",
        "      if tuple_main_context not in co_occurence_matrix:\n",
        "        co_occurence_matrix[tuple_main_context] = 1\n",
        "        co_occurence_matrix[tuple_context_main] = 1\n",
        "      \n",
        "      else:\n",
        "        co_occurence_matrix[tuple_main_context] += 1\n",
        "        co_occurence_matrix[tuple_context_main] += 1\n",
        "\n",
        "print( \"Co occurence matrix built successfully..!!\")\n",
        "print( \"Number of words in vocabulary: \"  + str(len(vocabulary)))\n",
        "print( \"Number of entries in co-occurence matrix: \"  + str(len(co_occurence_matrix)))\n",
        "print( \"Saving the co occurence matrix and vocabulary for future reference.\")\n",
        "\n",
        "pickle.dump( vocabulary, open( \"/content/drive/My Drive/ISI_PROJECT/vocabulary\", \"wb\" ) )\n",
        "pickle.dump( co_occurence_matrix, open( \"/content/drive/My Drive/ISI_PROJECT/co_occurence_matrix\", \"wb\" ) )\n",
        "\n",
        "print(\"Executed Successfully\")"
      ],
      "execution_count": 19,
      "outputs": [
        {
          "output_type": "stream",
          "text": [
            "Global variables initialized...!!\n",
            "Co occurence matrix build in progress... 5000 poems read.\n",
            "Co occurence matrix build in progress... 10000 poems read.\n",
            "Co occurence matrix build in progress... 15000 poems read.\n",
            "Co occurence matrix build in progress... 20000 poems read.\n",
            "Co occurence matrix build in progress... 25000 poems read.\n",
            "Co occurence matrix build in progress... 30000 poems read.\n",
            "Co occurence matrix build in progress... 35000 poems read.\n",
            "Co occurence matrix build in progress... 40000 poems read.\n",
            "Co occurence matrix build in progress... 45000 poems read.\n",
            "Co occurence matrix built successfully..!!\n",
            "Number of words in vocabulary: 24281\n",
            "Number of entries in co-occurence matrix: 6447730\n",
            "Saving the co occurence matrix and vocabulary for future reference.\n",
            "Executed Successfully\n"
          ],
          "name": "stdout"
        }
      ]
    },
    {
      "cell_type": "code",
      "metadata": {
        "id": "SG7mDcGPmOTo",
        "outputId": "82cb9478-7073-40ab-8aaf-0b674f0d6de2",
        "colab": {
          "base_uri": "https://localhost:8080/"
        }
      },
      "source": [
        "import random\n",
        "import numpy as np\n",
        "vectors_main_word = {}\n",
        "vectors_context_word = {}\n",
        "biases_main_word = {}\n",
        "biases_context_word = {}\n",
        "alpha_glove_model = 0.75\n",
        "x_max_glove_model = 100\n",
        "\n",
        "number_of_iterations = 100\n",
        "learning_rate = 0.001\n",
        "\n",
        "def find_weight( main_token, context_token ):\n",
        "  if (context_token,main_token) not in co_occurence_matrix:\n",
        "    return 0\n",
        "  if ( co_occurence_matrix[(context_token,main_token)] < x_max_glove_model ):\n",
        "    return (co_occurence_matrix[(context_token,main_token)] / x_max_glove_model) ** alpha_glove_model\n",
        "  return 1\n",
        "\n",
        "def initilize_word_vectors_and_biases():\n",
        "  for token in vocabulary:\n",
        "    vectors_main_word[token] = np.random.random(100)\n",
        "    vectors_context_word[token] = np.random.random(100)\n",
        "    biases_main_word[token] = random.random()\n",
        "    biases_context_word[token] = random.random()\n",
        "\n",
        "initilize_word_vectors_and_biases()\n",
        "\n",
        "print(\"Initialization of the word vectors and biases for the \" + str(len(vocabulary)) + \" tokens in our vocabulary complete.\")\n"
      ],
      "execution_count": 24,
      "outputs": [
        {
          "output_type": "stream",
          "text": [
            "Initialization of the word vectors and biases for the 24281 tokens in our vocabulary complete.\n"
          ],
          "name": "stdout"
        }
      ]
    },
    {
      "cell_type": "code",
      "metadata": {
        "id": "366RgqyYmehH",
        "outputId": "50d2748e-3eed-4747-bbd4-0df7e96c8bb0",
        "colab": {
          "base_uri": "https://localhost:8080/"
        }
      },
      "source": [
        "def find_weight( main_token, context_token ):\n",
        "  if (context_token,main_token) not in co_occurence_matrix:\n",
        "    return 0\n",
        "  if ( co_occurence_matrix[(context_token,main_token)] < x_max_glove_model ):\n",
        "    return (co_occurence_matrix[(context_token,main_token)] / x_max_glove_model) ** alpha_glove_model\n",
        "  return 1\n",
        "alpha_glove_model = 0.75\n",
        "x_max_glove_model = 100\n",
        "\n",
        "import numpy as np\n",
        "import math\n",
        "def run_single_iteration():\n",
        "  total_cost = 0\n",
        "  for (context_token,main_token), value in co_occurence_matrix.items():\n",
        "    if main_token == context_token:\n",
        "      continue\n",
        "    weight = find_weight( main_token, context_token )\n",
        "    \n",
        "    if(weight == 0):\n",
        "      continue\n",
        "    cost_without_weight = ( np.dot(vectors_main_word[main_token] , vectors_context_word[context_token] ) + biases_main_word[main_token] + biases_context_word[context_token] - math.log(co_occurence_matrix[(context_token,main_token)]))\n",
        "    total_cost += 0.5 * weight * cost_without_weight ** 2\n",
        "    gradient_main_word_vector = weight * cost_without_weight * vectors_context_word[context_token]\n",
        "    gradient_context_word_vector = weight * cost_without_weight * vectors_main_word[main_token]\n",
        "    gradient_main_bias = weight * cost_without_weight\n",
        "    gradient_context_bias = weight * cost_without_weight\n",
        "\n",
        "    vectors_main_word[ main_token ] -= learning_rate * gradient_main_word_vector\n",
        "    vectors_context_word[ context_token ] -= learning_rate * gradient_context_word_vector\n",
        "\n",
        "    biases_main_word[ main_token ] -= learning_rate * gradient_main_bias\n",
        "    biases_context_word[ context_token ] -= learning_rate * gradient_context_bias\n",
        "  return total_cost\n",
        "\n",
        "print(\"Function to run single iteration of gradient descent compiled successfully..!!\")"
      ],
      "execution_count": 21,
      "outputs": [
        {
          "output_type": "stream",
          "text": [
            "Function to run single iteration of gradient descent compiled successfully..!!\n"
          ],
          "name": "stdout"
        }
      ]
    },
    {
      "cell_type": "code",
      "metadata": {
        "id": "uY-7RvESw60a",
        "outputId": "3c9386f5-d198-491e-cbcc-9cb9d986614f",
        "colab": {
          "base_uri": "https://localhost:8080/"
        }
      },
      "source": [
        "import pickle\n",
        "\n",
        "learning_rate = 0.03\n",
        "print(\"Applying gradient descent to find the appropriate word vectors to carry out unsupervised learning...\")\n",
        "for iteration in range(1,51):\n",
        "  cost = run_single_iteration()\n",
        "  print(\"Iteration \" + str(iteration) + \" successfull. Returned cost value is: \" + str(cost))\n",
        "\n",
        "print(\"All iterations fot gradient descent completed successfully..!!\")\n",
        "print(\"Saving word vectors in file 'word_vectors' \")\n",
        "pickle.dump(vectors_main_word , open( \"/content/drive/My Drive/ISI_PROJECT/word_vectors_test_set_50_iterations_Greater_Alpha\", \"wb\" ) )\n"
      ],
      "execution_count": 25,
      "outputs": [
        {
          "output_type": "stream",
          "text": [
            "Applying gradient descent to find the appropriate word vectors to carry out unsupervised learning...\n",
            "Iteration 1 successfull. Returned cost value is: 2341621.1353613264\n",
            "Iteration 2 successfull. Returned cost value is: 548151.0081366764\n",
            "Iteration 3 successfull. Returned cost value is: 352049.8694298474\n",
            "Iteration 4 successfull. Returned cost value is: 273242.3247712233\n",
            "Iteration 5 successfull. Returned cost value is: 228303.79072655636\n",
            "Iteration 6 successfull. Returned cost value is: 198739.52547601215\n",
            "Iteration 7 successfull. Returned cost value is: 177609.22943605023\n",
            "Iteration 8 successfull. Returned cost value is: 161663.4733580541\n",
            "Iteration 9 successfull. Returned cost value is: 149160.51153276142\n",
            "Iteration 10 successfull. Returned cost value is: 139074.39796444552\n",
            "Iteration 11 successfull. Returned cost value is: 130756.88484217756\n",
            "Iteration 12 successfull. Returned cost value is: 123775.7269185333\n",
            "Iteration 13 successfull. Returned cost value is: 117830.32062513557\n",
            "Iteration 14 successfull. Returned cost value is: 112704.5035225833\n",
            "Iteration 15 successfull. Returned cost value is: 108238.57094424136\n",
            "Iteration 16 successfull. Returned cost value is: 104311.85948226223\n",
            "Iteration 17 successfull. Returned cost value is: 100831.45977022874\n",
            "Iteration 18 successfull. Returned cost value is: 97724.65391098439\n",
            "Iteration 19 successfull. Returned cost value is: 94933.70691056983\n",
            "Iteration 20 successfull. Returned cost value is: 92412.19494832681\n",
            "Iteration 21 successfull. Returned cost value is: 90122.36449294924\n",
            "Iteration 22 successfull. Returned cost value is: 88033.19898989493\n",
            "Iteration 23 successfull. Returned cost value is: 86118.98107750172\n",
            "Iteration 24 successfull. Returned cost value is: 84358.20806123334\n",
            "Iteration 25 successfull. Returned cost value is: 82732.76327458913\n",
            "Iteration 26 successfull. Returned cost value is: 81227.27549739684\n",
            "Iteration 27 successfull. Returned cost value is: 79828.61842499641\n",
            "Iteration 28 successfull. Returned cost value is: 78525.51571297614\n",
            "Iteration 29 successfull. Returned cost value is: 77308.22650733696\n",
            "Iteration 30 successfull. Returned cost value is: 76168.29296751914\n",
            "Iteration 31 successfull. Returned cost value is: 75098.33599559356\n",
            "Iteration 32 successfull. Returned cost value is: 74091.88877891311\n",
            "Iteration 33 successfull. Returned cost value is: 73143.26023538959\n",
            "Iteration 34 successfull. Returned cost value is: 72247.42228212416\n",
            "Iteration 35 successfull. Returned cost value is: 71399.916218053\n",
            "Iteration 36 successfull. Returned cost value is: 70596.77454200378\n",
            "Iteration 37 successfull. Returned cost value is: 69834.4553135253\n",
            "Iteration 38 successfull. Returned cost value is: 69109.78676601456\n",
            "Iteration 39 successfull. Returned cost value is: 68419.92034696917\n",
            "Iteration 40 successfull. Returned cost value is: 67762.29072250199\n",
            "Iteration 41 successfull. Returned cost value is: 67134.58156678248\n",
            "Iteration 42 successfull. Returned cost value is: 66534.69618067387\n",
            "Iteration 43 successfull. Returned cost value is: 65960.73216044804\n",
            "Iteration 44 successfull. Returned cost value is: 65410.95947889799\n",
            "Iteration 45 successfull. Returned cost value is: 64883.8014534728\n",
            "Iteration 46 successfull. Returned cost value is: 64377.81816739197\n",
            "Iteration 47 successfull. Returned cost value is: 63891.69198272757\n",
            "Iteration 48 successfull. Returned cost value is: 63424.214844465896\n",
            "Iteration 49 successfull. Returned cost value is: 62974.27712300315\n",
            "Iteration 50 successfull. Returned cost value is: 62540.85778278125\n",
            "All iterations fot gradient descent completed successfully..!!\n",
            "Saving word vectors in file 'word_vectors' \n"
          ],
          "name": "stdout"
        }
      ]
    },
    {
      "cell_type": "code",
      "metadata": {
        "id": "j7K3stYVugGg",
        "outputId": "9d8b1a62-7b3b-4ad6-c037-374c2a1297ea",
        "colab": {
          "base_uri": "https://localhost:8080/"
        }
      },
      "source": [
        "import pickle\n",
        "\n",
        "learning_rate = 0.01\n",
        "print(\"Applying gradient descent to find the appropriate word vectors to carry out unsupervised learning...\")\n",
        "for iteration in range(1,51):\n",
        "  cost = run_single_iteration()\n",
        "  print(\"Iteration \" + str(50 + iteration) + \" successfull. Returned cost value is: \" + str(cost))\n",
        "\n",
        "print(\"All iterations fot gradient descent completed successfully..!!\")\n",
        "print(\"Saving word vectors in file 'word_vectors' \")\n",
        "pickle.dump(vectors_main_word , open( \"/content/drive/My Drive/ISI_PROJECT/word_vectors_test_set_100_iterations_Greater_Alpha\", \"wb\" ) )\n"
      ],
      "execution_count": 26,
      "outputs": [
        {
          "output_type": "stream",
          "text": [
            "Applying gradient descent to find the appropriate word vectors to carry out unsupervised learning...\n",
            "Iteration 51 successfull. Returned cost value is: 69770.7293682521\n",
            "Iteration 52 successfull. Returned cost value is: 64045.99693202178\n",
            "Iteration 53 successfull. Returned cost value is: 63635.52330389594\n",
            "Iteration 54 successfull. Returned cost value is: 63355.743858315946\n",
            "Iteration 55 successfull. Returned cost value is: 63123.06645716154\n",
            "Iteration 56 successfull. Returned cost value is: 62913.417968003654\n",
            "Iteration 57 successfull. Returned cost value is: 62717.91939923795\n",
            "Iteration 58 successfull. Returned cost value is: 62532.4386077651\n",
            "Iteration 59 successfull. Returned cost value is: 62354.68038837473\n",
            "Iteration 60 successfull. Returned cost value is: 62183.204129496655\n",
            "Iteration 61 successfull. Returned cost value is: 62017.027757457174\n",
            "Iteration 62 successfull. Returned cost value is: 61855.44234478261\n",
            "Iteration 63 successfull. Returned cost value is: 61697.914402154696\n",
            "Iteration 64 successfull. Returned cost value is: 61544.02948651996\n",
            "Iteration 65 successfull. Returned cost value is: 61393.45734406058\n",
            "Iteration 66 successfull. Returned cost value is: 61245.92921085143\n",
            "Iteration 67 successfull. Returned cost value is: 61101.22242019806\n",
            "Iteration 68 successfull. Returned cost value is: 60959.149622433426\n",
            "Iteration 69 successfull. Returned cost value is: 60819.551032587275\n",
            "Iteration 70 successfull. Returned cost value is: 60682.28872985667\n",
            "Iteration 71 successfull. Returned cost value is: 60547.24238531496\n",
            "Iteration 72 successfull. Returned cost value is: 60414.30600579532\n",
            "Iteration 73 successfull. Returned cost value is: 60283.38541556077\n",
            "Iteration 74 successfull. Returned cost value is: 60154.3962825256\n",
            "Iteration 75 successfull. Returned cost value is: 60027.26255282305\n",
            "Iteration 76 successfull. Returned cost value is: 59901.91519559721\n",
            "Iteration 77 successfull. Returned cost value is: 59778.29118660507\n",
            "Iteration 78 successfull. Returned cost value is: 59656.332677497405\n",
            "Iteration 79 successfull. Returned cost value is: 59535.98631139802\n",
            "Iteration 80 successfull. Returned cost value is: 59417.20265418768\n",
            "Iteration 81 successfull. Returned cost value is: 59299.935718946464\n",
            "Iteration 82 successfull. Returned cost value is: 59184.14256513599\n",
            "Iteration 83 successfull. Returned cost value is: 59069.78295895645\n",
            "Iteration 84 successfull. Returned cost value is: 58956.819083658425\n",
            "Iteration 85 successfull. Returned cost value is: 58845.21529105831\n",
            "Iteration 86 successfull. Returned cost value is: 58734.93788731787\n",
            "Iteration 87 successfull. Returned cost value is: 58625.95494730806\n",
            "Iteration 88 successfull. Returned cost value is: 58518.23615296296\n",
            "Iteration 89 successfull. Returned cost value is: 58411.75265184274\n",
            "Iteration 90 successfull. Returned cost value is: 58306.47693298072\n",
            "Iteration 91 successfull. Returned cost value is: 58202.38271728973\n",
            "Iteration 92 successfull. Returned cost value is: 58099.4448605109\n",
            "Iteration 93 successfull. Returned cost value is: 57997.63926695927\n",
            "Iteration 94 successfull. Returned cost value is: 57896.942812610185\n",
            "Iteration 95 successfull. Returned cost value is: 57797.33327615008\n",
            "Iteration 96 successfull. Returned cost value is: 57698.78927718156\n",
            "Iteration 97 successfull. Returned cost value is: 57601.29022039403\n",
            "Iteration 98 successfull. Returned cost value is: 57504.81624525581\n",
            "Iteration 99 successfull. Returned cost value is: 57409.34818030772\n",
            "Iteration 100 successfull. Returned cost value is: 57314.86750167717\n",
            "All iterations fot gradient descent completed successfully..!!\n",
            "Saving word vectors in file 'word_vectors' \n"
          ],
          "name": "stdout"
        }
      ]
    },
    {
      "cell_type": "code",
      "metadata": {
        "id": "tUENKfZBcm-K",
        "outputId": "74863250-9406-4afa-af10-4e15ab5460f2",
        "colab": {
          "base_uri": "https://localhost:8080/"
        }
      },
      "source": [
        "import pickle\n",
        "\n",
        "learning_rate = 0.01\n",
        "print(\"Applying gradient descent to find the appropriate word vectors to carry out unsupervised learning...\")\n",
        "for iteration in range(1,51):\n",
        "  cost = run_single_iteration()\n",
        "  print(\"Iteration \" + str(100 + iteration) + \" successfull. Returned cost value is: \" + str(cost))\n",
        "\n",
        "print(\"All iterations fot gradient descent completed successfully..!!\")\n",
        "print(\"Saving word vectors in file 'word_vectors' \")\n",
        "pickle.dump(vectors_main_word , open( \"/content/drive/My Drive/ISI_PROJECT/word_vectors_test_set_150_iterations_Greater_Alpha\", \"wb\" ) )\n"
      ],
      "execution_count": 27,
      "outputs": [
        {
          "output_type": "stream",
          "text": [
            "Applying gradient descent to find the appropriate word vectors to carry out unsupervised learning...\n",
            "Iteration 101 successfull. Returned cost value is: 57221.3562952766\n",
            "Iteration 102 successfull. Returned cost value is: 57128.7972222028\n",
            "Iteration 103 successfull. Returned cost value is: 57037.1734871099\n",
            "Iteration 104 successfull. Returned cost value is: 56946.46880915079\n",
            "Iteration 105 successfull. Returned cost value is: 56856.66739523306\n",
            "Iteration 106 successfull. Returned cost value is: 56767.75391530825\n",
            "Iteration 107 successfull. Returned cost value is: 56679.71347964514\n",
            "Iteration 108 successfull. Returned cost value is: 56592.53161767311\n",
            "Iteration 109 successfull. Returned cost value is: 56506.19425838898\n",
            "Iteration 110 successfull. Returned cost value is: 56420.687712136045\n",
            "Iteration 111 successfull. Returned cost value is: 56335.99865368336\n",
            "Iteration 112 successfull. Returned cost value is: 56252.11410632933\n",
            "Iteration 113 successfull. Returned cost value is: 56169.021427155065\n",
            "Iteration 114 successfull. Returned cost value is: 56086.70829317103\n",
            "Iteration 115 successfull. Returned cost value is: 56005.162688299795\n",
            "Iteration 116 successfull. Returned cost value is: 55924.37289123342\n",
            "Iteration 117 successfull. Returned cost value is: 55844.32746389176\n",
            "Iteration 118 successfull. Returned cost value is: 55765.01524071354\n",
            "Iteration 119 successfull. Returned cost value is: 55686.42531842846\n",
            "Iteration 120 successfull. Returned cost value is: 55608.54704645478\n",
            "Iteration 121 successfull. Returned cost value is: 55531.370017779\n",
            "Iteration 122 successfull. Returned cost value is: 55454.8840604376\n",
            "Iteration 123 successfull. Returned cost value is: 55379.07922925123\n",
            "Iteration 124 successfull. Returned cost value is: 55303.945798239336\n",
            "Iteration 125 successfull. Returned cost value is: 55229.474253163535\n",
            "Iteration 126 successfull. Returned cost value is: 55155.65528459644\n",
            "Iteration 127 successfull. Returned cost value is: 55082.47978128571\n",
            "Iteration 128 successfull. Returned cost value is: 55009.93882380892\n",
            "Iteration 129 successfull. Returned cost value is: 54938.02367858769\n",
            "Iteration 130 successfull. Returned cost value is: 54866.72579207078\n",
            "Iteration 131 successfull. Returned cost value is: 54796.0367853416\n",
            "Iteration 132 successfull. Returned cost value is: 54725.94844876926\n",
            "Iteration 133 successfull. Returned cost value is: 54656.45273703229\n",
            "Iteration 134 successfull. Returned cost value is: 54587.54176430941\n",
            "Iteration 135 successfull. Returned cost value is: 54519.20779969799\n",
            "Iteration 136 successfull. Returned cost value is: 54451.443262766654\n",
            "Iteration 137 successfull. Returned cost value is: 54384.240719331065\n",
            "Iteration 138 successfull. Returned cost value is: 54317.592877409996\n",
            "Iteration 139 successfull. Returned cost value is: 54251.492583304724\n",
            "Iteration 140 successfull. Returned cost value is: 54185.9328178506\n",
            "Iteration 141 successfull. Returned cost value is: 54120.906692785924\n",
            "Iteration 142 successfull. Returned cost value is: 54056.40744736496\n",
            "Iteration 143 successfull. Returned cost value is: 53992.428444885205\n",
            "Iteration 144 successfull. Returned cost value is: 53928.96316958205\n",
            "Iteration 145 successfull. Returned cost value is: 53866.00522348766\n",
            "Iteration 146 successfull. Returned cost value is: 53803.548323413954\n",
            "Iteration 147 successfull. Returned cost value is: 53741.58629808715\n",
            "Iteration 148 successfull. Returned cost value is: 53680.11308539094\n",
            "Iteration 149 successfull. Returned cost value is: 53619.12272960572\n",
            "Iteration 150 successfull. Returned cost value is: 53558.60937886684\n",
            "All iterations fot gradient descent completed successfully..!!\n",
            "Saving word vectors in file 'word_vectors' \n"
          ],
          "name": "stdout"
        }
      ]
    },
    {
      "cell_type": "code",
      "metadata": {
        "id": "RGe6xK-CuecW",
        "outputId": "317b8bd9-3b5d-445d-8427-a119394379e9",
        "colab": {
          "base_uri": "https://localhost:8080/"
        }
      },
      "source": [
        "import pickle\n",
        "\n",
        "learning_rate = 0.01\n",
        "print(\"Applying gradient descent to find the appropriate word vectors to carry out unsupervised learning...\")\n",
        "for iteration in range(1,51):\n",
        "  cost = run_single_iteration()\n",
        "  print(\"Iteration \" + str(150 + iteration) + \" successfull. Returned cost value is: \" + str(cost))\n",
        "\n",
        "print(\"All iterations fot gradient descent completed successfully..!!\")\n",
        "print(\"Saving word vectors in file 'word_vectors' \")\n",
        "pickle.dump(vectors_main_word , open( \"/content/drive/My Drive/ISI_PROJECT/word_vectors_test_set_200_iterations_Greater_Alpha\", \"wb\" ) )\n"
      ],
      "execution_count": 28,
      "outputs": [
        {
          "output_type": "stream",
          "text": [
            "Applying gradient descent to find the appropriate word vectors to carry out unsupervised learning...\n",
            "Iteration 151 successfull. Returned cost value is: 53498.56728267199\n",
            "Iteration 152 successfull. Returned cost value is: 53438.9907893634\n",
            "Iteration 153 successfull. Returned cost value is: 53379.87434385702\n",
            "Iteration 154 successfull. Returned cost value is: 53321.212485351236\n",
            "Iteration 155 successfull. Returned cost value is: 53262.99984511786\n",
            "Iteration 156 successfull. Returned cost value is: 53205.23114435224\n",
            "Iteration 157 successfull. Returned cost value is: 53147.90119217313\n",
            "Iteration 158 successfull. Returned cost value is: 53091.00488353104\n",
            "Iteration 159 successfull. Returned cost value is: 53034.537197356796\n",
            "Iteration 160 successfull. Returned cost value is: 52978.4931946207\n",
            "Iteration 161 successfull. Returned cost value is: 52922.86801654883\n",
            "Iteration 162 successfull. Returned cost value is: 52867.65688280826\n",
            "Iteration 163 successfull. Returned cost value is: 52812.855089872966\n",
            "Iteration 164 successfull. Returned cost value is: 52758.45800921181\n",
            "Iteration 165 successfull. Returned cost value is: 52704.46108584712\n",
            "Iteration 166 successfull. Returned cost value is: 52650.85983662938\n",
            "Iteration 167 successfull. Returned cost value is: 52597.649848801164\n",
            "Iteration 168 successfull. Returned cost value is: 52544.8267784828\n",
            "Iteration 169 successfull. Returned cost value is: 52492.38634922107\n",
            "Iteration 170 successfull. Returned cost value is: 52440.32435058811\n",
            "Iteration 171 successfull. Returned cost value is: 52388.63663682635\n",
            "Iteration 172 successfull. Returned cost value is: 52337.31912550526\n",
            "Iteration 173 successfull. Returned cost value is: 52286.36779624749\n",
            "Iteration 174 successfull. Returned cost value is: 52235.7786894357\n",
            "Iteration 175 successfull. Returned cost value is: 52185.54790503677\n",
            "Iteration 176 successfull. Returned cost value is: 52135.67160136497\n",
            "Iteration 177 successfull. Returned cost value is: 52086.14599394373\n",
            "Iteration 178 successfull. Returned cost value is: 52036.967354359855\n",
            "Iteration 179 successfull. Returned cost value is: 51988.132009171924\n",
            "Iteration 180 successfull. Returned cost value is: 51939.63633885334\n",
            "Iteration 181 successfull. Returned cost value is: 51891.47677667881\n",
            "Iteration 182 successfull. Returned cost value is: 51843.64980776625\n",
            "Iteration 183 successfull. Returned cost value is: 51796.151968083446\n",
            "Iteration 184 successfull. Returned cost value is: 51748.97984343634\n",
            "Iteration 185 successfull. Returned cost value is: 51702.13006853797\n",
            "Iteration 186 successfull. Returned cost value is: 51655.59932608947\n",
            "Iteration 187 successfull. Returned cost value is: 51609.384345903265\n",
            "Iteration 188 successfull. Returned cost value is: 51563.4819039365\n",
            "Iteration 189 successfull. Returned cost value is: 51517.88882157474\n",
            "Iteration 190 successfull. Returned cost value is: 51472.60196462518\n",
            "Iteration 191 successfull. Returned cost value is: 51427.61824264867\n",
            "Iteration 192 successfull. Returned cost value is: 51382.93460806066\n",
            "Iteration 193 successfull. Returned cost value is: 51338.54805540804\n",
            "Iteration 194 successfull. Returned cost value is: 51294.455620550136\n",
            "Iteration 195 successfull. Returned cost value is: 51250.65437998502\n",
            "Iteration 196 successfull. Returned cost value is: 51207.1414500789\n",
            "Iteration 197 successfull. Returned cost value is: 51163.91398632863\n",
            "Iteration 198 successfull. Returned cost value is: 51120.96918272348\n",
            "Iteration 199 successfull. Returned cost value is: 51078.304271052264\n",
            "Iteration 200 successfull. Returned cost value is: 51035.91652018497\n",
            "All iterations fot gradient descent completed successfully..!!\n",
            "Saving word vectors in file 'word_vectors' \n"
          ],
          "name": "stdout"
        }
      ]
    },
    {
      "cell_type": "code",
      "metadata": {
        "id": "Ie0uyB2G6RHq"
      },
      "source": [
        "pickle.dump(vectors_main_word , open( \"/content/drive/My Drive/ISI_PROJECT/word_vectors_test_set_50_iterations\", \"wb\" ) )\n"
      ],
      "execution_count": 13,
      "outputs": []
    }
  ]
}